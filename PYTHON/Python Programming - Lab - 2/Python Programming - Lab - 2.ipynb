{
 "cells": [
  {
   "cell_type": "markdown",
   "metadata": {},
   "source": [
    "\n",
    "<a href='https://www.darshan.ac.in/'> <img src='https://www.darshan.ac.in/Content/media/DU_Logo.svg' width=\"250\" height=\"300\"/></a>\n",
    "<pre>\n",
    "<center><b><h1>Python Programming - 2301CS404</b></center>\n",
    "<center><b><h1>Lab - 2</b></center>    \n",
    "<pre>"
   ]
  },
  {
   "cell_type": "markdown",
   "metadata": {},
   "source": [
    "# if..else.."
   ]
  },
  {
   "cell_type": "markdown",
   "metadata": {},
   "source": [
    "### 01) WAP to check whether the given number is positive or negative."
   ]
  },
  {
   "cell_type": "code",
   "execution_count": 10,
   "metadata": {},
   "outputs": [
    {
     "name": "stdin",
     "output_type": "stream",
     "text": [
      "Enter Number :  -5\n"
     ]
    },
    {
     "name": "stdout",
     "output_type": "stream",
     "text": [
      "Negative Number\n"
     ]
    }
   ],
   "source": [
    "number = float(input(\"Enter Number : \"))\n",
    "if(number>0):\n",
    "    print(\"Positive Number\")\n",
    "elif(number<0):\n",
    "    print(\"Negative Number\")\n",
    "else:\n",
    "    print(\"!Enter Valid Number\")\n"
   ]
  },
  {
   "cell_type": "markdown",
   "metadata": {},
   "source": [
    "### 02) WAP to check whether the given number is odd or even."
   ]
  },
  {
   "cell_type": "code",
   "execution_count": 14,
   "metadata": {},
   "outputs": [
    {
     "name": "stdin",
     "output_type": "stream",
     "text": [
      "Enter Number :  16\n"
     ]
    },
    {
     "name": "stdout",
     "output_type": "stream",
     "text": [
      "Even Number\n"
     ]
    }
   ],
   "source": [
    "number = float(input(\"Enter Number : \"))\n",
    "if(number%2 == 0):\n",
    "    print(\"Even Number\")\n",
    "elif(number%2 != 0):\n",
    "    print(\"Odd Number\")\n",
    "else:\n",
    "    print(\"!Enter Valid Number\")\n"
   ]
  },
  {
   "cell_type": "markdown",
   "metadata": {},
   "source": [
    "### 03) WAP to find out largest number from given two numbers using simple if and ternary operator."
   ]
  },
  {
   "cell_type": "code",
   "execution_count": 18,
   "metadata": {},
   "outputs": [
    {
     "name": "stdin",
     "output_type": "stream",
     "text": [
      "Enter n :  15\n",
      "Enter n2 :  17\n"
     ]
    },
    {
     "name": "stdout",
     "output_type": "stream",
     "text": [
      "n2 is maximum\n"
     ]
    }
   ],
   "source": [
    "n = float(input(\"Enter n : \"))\n",
    "n2 = float(input(\"Enter n2 : \"))\n",
    "if(n>n2):\n",
    "    print(\"n is maximum\")\n",
    "else:\n",
    "    print(\"n2 is maximum\")"
   ]
  },
  {
   "cell_type": "markdown",
   "metadata": {},
   "source": [
    "### 04) WAP to find out largest number from given three numbers."
   ]
  },
  {
   "cell_type": "code",
   "execution_count": 24,
   "metadata": {},
   "outputs": [
    {
     "name": "stdin",
     "output_type": "stream",
     "text": [
      "Enter a :  5\n",
      "Enter b :  6\n",
      "Enter c :  9\n"
     ]
    },
    {
     "name": "stdout",
     "output_type": "stream",
     "text": [
      "C is maximum\n"
     ]
    }
   ],
   "source": [
    "a = float(input(\"Enter a : \"))\n",
    "b = float(input(\"Enter b : \"))\n",
    "c = float(input(\"Enter c : \"))\n",
    "if(a>b):\n",
    "    if(a>c):\n",
    "        print(\"A is maximum\")\n",
    "    else:\n",
    "        print(\"C is maximum\")\n",
    "elif(b>c):\n",
    "   print(\"B is maximum\")\n",
    "else:\n",
    "    print(\"C is maximum\")"
   ]
  },
  {
   "cell_type": "markdown",
   "metadata": {},
   "source": [
    "### 05) WAP to check whether the given year is leap year or not.\n",
    "[If a year can be divisible by 4 but not divisible by 100 then it is leap year but if it is divisible by 400 then it is leap year]"
   ]
  },
  {
   "cell_type": "code",
   "execution_count": 51,
   "metadata": {},
   "outputs": [
    {
     "name": "stdin",
     "output_type": "stream",
     "text": [
      "Enter Year :  2000\n"
     ]
    },
    {
     "name": "stdout",
     "output_type": "stream",
     "text": [
      "leap year\n"
     ]
    }
   ],
   "source": [
    "n=int(input(\"Enter Year : \"))\n",
    "if((n%4==0 and n%100!=0) or n%400 == 0):\n",
    "    print(\"leap year\")\n",
    "else:\n",
    "    print(\"not leap year\")"
   ]
  },
  {
   "cell_type": "markdown",
   "metadata": {},
   "source": [
    "### 06) WAP in python to display the name of the day according to the number given by the user."
   ]
  },
  {
   "cell_type": "markdown",
   "metadata": {},
   "source": [
    "### 07) WAP to implement simple calculator which performs (add,sub,mul,div) of two no. based on user input."
   ]
  },
  {
   "cell_type": "code",
   "execution_count": 41,
   "metadata": {},
   "outputs": [
    {
     "name": "stdin",
     "output_type": "stream",
     "text": [
      "Enter input a:  10\n",
      "Enter input b:  20\n",
      "Press 1 for addition, 2 for subtraction, 3 for division, 4 for multiplication:  4\n"
     ]
    },
    {
     "name": "stdout",
     "output_type": "stream",
     "text": [
      "200.0\n"
     ]
    }
   ],
   "source": [
    "a = float(input(\"Enter input a: \"))\n",
    "b = float(input(\"Enter input b: \"))\n",
    "key = int(input(\"Press 1 for addition, 2 for subtraction, 3 for division, 4 for multiplication: \"))\n",
    "\n",
    "if key == 1:\n",
    "    print(a + b)\n",
    "elif key == 2:\n",
    "    print(a - b)\n",
    "elif key == 3:\n",
    "    # Handle division by zero\n",
    "    if b != 0:\n",
    "        print(a / b)\n",
    "    else:\n",
    "        print(\"Error: Division by zero is not allowed.\")\n",
    "elif key == 4:\n",
    "    print(a * b)\n",
    "else:\n",
    "    print(\"Invalid key! Please choose 1, 2, 3, or 4.\")\n"
   ]
  },
  {
   "cell_type": "markdown",
   "metadata": {},
   "source": [
    "### 08) WAP to read marks of five subjects. Calculate percentage and print class accordingly. \n",
    "Fail below 35 </br>\n",
    "Pass Class between 35 to 45 </br>\n",
    "Second Class</br>\n",
    "between 45 to 60</br>\n",
    "First Class between 60 to 70</br> \n",
    "Distinction if more than 70"
   ]
  },
  {
   "cell_type": "code",
   "execution_count": 63,
   "metadata": {},
   "outputs": [
    {
     "name": "stdout",
     "output_type": "stream",
     "text": [
      "Enter belove subject marks out of 100\n"
     ]
    },
    {
     "name": "stdin",
     "output_type": "stream",
     "text": [
      "Enter Subject 1 marks:  80\n",
      "Enter Subject 2 marks:  90\n",
      "Enter Subject 3 marks:  70\n",
      "Enter Subject 4 marks:  60\n",
      "Enter Subject 5 marks:  50\n"
     ]
    },
    {
     "name": "stdout",
     "output_type": "stream",
     "text": [
      " TotalMarks --> 350 , Percentage --> 70.0\n",
      "Disrictio\n"
     ]
    }
   ],
   "source": [
    "print(\"Enter belove subject marks out of 100\")\n",
    "s1=int(input(\"Enter Subject 1 marks: \"))\n",
    "s2=int(input(\"Enter Subject 2 marks: \"))\n",
    "s3=int(input(\"Enter Subject 3 marks: \"))\n",
    "s4=int(input(\"Enter Subject 4 marks: \"))\n",
    "s5=int(input(\"Enter Subject 5 marks: \"))\n",
    "\n",
    "totalMarks = s1+s2+s3+s4+s5\n",
    "percentage =(totalMarks/500)*100\n",
    "print(f\" TotalMarks --> {totalMarks} , Percentage --> {percentage}\")\n",
    "\n",
    "if(percentage<35):\n",
    "    print(\"Fail\")\n",
    "elif(percentage>35 and percentage<45):\n",
    "    print(\"Pass\")\n",
    "elif(percentage>45 and percentage<60):\n",
    "    print(\"Second Class\")\n",
    "elif(percentage>60 and percentage<=70):\n",
    "    print(\"First Class\")\n",
    "else:\n",
    "    print(\"Disriction\")\n",
    "    "
   ]
  },
  {
   "cell_type": "markdown",
   "metadata": {},
   "source": [
    "### 09) Three sides of a triangle are entered through the keyboard, WAP to check whether the triangle is isosceles, equilateral, scalene or right-angled triangle."
   ]
  },
  {
   "cell_type": "code",
   "execution_count": null,
   "metadata": {},
   "outputs": [],
   "source": []
  },
  {
   "cell_type": "code",
   "execution_count": null,
   "metadata": {},
   "outputs": [],
   "source": []
  },
  {
   "cell_type": "markdown",
   "metadata": {},
   "source": [
    "### 10) WAP to find the second largest number among three user input numbers."
   ]
  },
  {
   "cell_type": "code",
   "execution_count": 90,
   "metadata": {},
   "outputs": [
    {
     "name": "stdin",
     "output_type": "stream",
     "text": [
      "Enter the first number:  10\n",
      "Enter the second number:  20\n",
      "Enter the third number:  30\n"
     ]
    },
    {
     "name": "stdout",
     "output_type": "stream",
     "text": [
      "20.0\n"
     ]
    }
   ],
   "source": [
    "num1 = float(input(\"Enter the first number: \"))\n",
    "num2 = float(input(\"Enter the second number: \"))\n",
    "num3 = float(input(\"Enter the third number: \"))\n",
    "\n",
    "# Determine the second largest number\n",
    "if (num1 > num2 and num1 < num3) or (num1 > num3 and num1 < num2):\n",
    "    second_largest = num1\n",
    "elif (num2 > num1 and num2 < num3) or (num2 > num3 and num2 < num1):\n",
    "    second_largest = num2\n",
    "else:\n",
    "    second_largest = num3\n",
    "\n",
    "print(second_largest)"
   ]
  },
  {
   "cell_type": "markdown",
   "metadata": {},
   "source": [
    "### 11) WAP to calculate electricity bill based on following criteria. Which takes the unit from the user.\n",
    "a. First 1 to 50 units – Rs. 2.60/unit</br>\n",
    "b. Next 50 to 100 units – Rs. 3.25/unit</br>\n",
    "c. Next 100 to 200 units – Rs. 5.26/unit</br>\n",
    "d. above 200 units – Rs. 8.45/unit"
   ]
  },
  {
   "cell_type": "code",
   "execution_count": 86,
   "metadata": {},
   "outputs": [
    {
     "name": "stdin",
     "output_type": "stream",
     "text": [
      "Enter your elctricity unit:  120\n"
     ]
    },
    {
     "name": "stdout",
     "output_type": "stream",
     "text": [
      "your bill is: 631.1999999999999\n"
     ]
    }
   ],
   "source": [
    "unit=float(input(\"Enter your elctricity unit: \" ))\n",
    "if(unit>1 and unit<50):\n",
    "    u1 = unit*2.60       \n",
    "    print(f\"your bill is: {u1}\")\n",
    "elif(unit>50 and unit<100):\n",
    "    u2 = unit*3.25       \n",
    "    print(f\"your bill is: {u2}\")\n",
    "elif(unit>100 and unit<200):\n",
    "    u3 = unit*5.26       \n",
    "    print(f\"your bill is: {u3}\")  \n",
    "else:\n",
    "    u4 = unit*8.45       \n",
    "    print(f\"your bill is: {u4}\")"
   ]
  },
  {
   "cell_type": "code",
   "execution_count": null,
   "metadata": {},
   "outputs": [],
   "source": []
  },
  {
   "cell_type": "code",
   "execution_count": null,
   "metadata": {},
   "outputs": [],
   "source": []
  }
 ],
 "metadata": {
  "kernelspec": {
   "display_name": "Python 3 (ipykernel)",
   "language": "python",
   "name": "python3"
  },
  "language_info": {
   "codemirror_mode": {
    "name": "ipython",
    "version": 3
   },
   "file_extension": ".py",
   "mimetype": "text/x-python",
   "name": "python",
   "nbconvert_exporter": "python",
   "pygments_lexer": "ipython3",
   "version": "3.12.7"
  }
 },
 "nbformat": 4,
 "nbformat_minor": 4
}
